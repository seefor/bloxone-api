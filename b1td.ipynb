{
 "cells": [
  {
   "cell_type": "code",
   "execution_count": null,
   "id": "fifteen-census",
   "metadata": {},
   "outputs": [],
   "source": [
    "import bloxone\n",
    "\n",
    "csp_token = 'csp.ini'\n",
    "\n",
    "test = bloxone.utils.reverse_labels(\"www.infoblox.com\")\n",
    "print(test)\n",
    "bloxone.__version__\n",
    "t = bloxone.b1td(csp_token)\n"
   ]
  },
  {
   "cell_type": "code",
   "execution_count": null,
   "id": "weighted-lebanon",
   "metadata": {},
   "outputs": [],
   "source": [
    "t.threat_classes().json()"
   ]
  },
  {
   "cell_type": "code",
   "execution_count": null,
   "id": "stylish-forestry",
   "metadata": {},
   "outputs": [],
   "source": [
    "t.threat_properties().json()"
   ]
  },
  {
   "cell_type": "code",
   "execution_count": null,
   "id": "satellite-python",
   "metadata": {},
   "outputs": [],
   "source": [
    "t.threat_properties(threatclass=\"malwareC2\").json()"
   ]
  },
  {
   "cell_type": "code",
   "execution_count": null,
   "id": "waiting-fisher",
   "metadata": {},
   "outputs": [],
   "source": [
    "t.dossierquery(\"api.mixpanel.com.\").json()"
   ]
  },
  {
   "cell_type": "code",
   "execution_count": null,
   "id": "interim-infrastructure",
   "metadata": {},
   "outputs": [],
   "source": [
    "t.dossierquery('37.187.247.3').text()"
   ]
  },
  {
   "cell_type": "code",
   "execution_count": null,
   "id": "annoying-socket",
   "metadata": {},
   "outputs": [],
   "source": [
    "t.expand_mitre_vector('DGA').json()"
   ]
  },
  {
   "cell_type": "code",
   "execution_count": null,
   "id": "complicated-interpretation",
   "metadata": {},
   "outputs": [],
   "source": [
    "t.threat_actor('APT1').json()"
   ]
  },
  {
   "cell_type": "code",
   "execution_count": null,
   "id": "efficient-appendix",
   "metadata": {},
   "outputs": [],
   "source": [
    "import bloxone\n",
    "import json\n",
    "csp_token = 'csp.ini'\n",
    "\n",
    "t = bloxone.b1td(csp_token)\n",
    "print(t.tide_url)\n",
    "\n",
    "badsite = t.querytideactive(datatype=\"host\", query=\"api.mixpanel.com\", rlimit=\"1\",).json()\n",
    "print(badsite)\n"
   ]
  },
  {
   "cell_type": "code",
   "execution_count": null,
   "id": "thrown-income",
   "metadata": {},
   "outputs": [],
   "source": [
    "td.create(url,body=body)"
   ]
  }
 ],
 "metadata": {
  "kernelspec": {
   "display_name": "Python 3",
   "language": "python",
   "name": "python3"
  },
  "language_info": {
   "codemirror_mode": {
    "name": "ipython",
    "version": 3
   },
   "file_extension": ".py",
   "mimetype": "text/x-python",
   "name": "python",
   "nbconvert_exporter": "python",
   "pygments_lexer": "ipython3",
   "version": "3.8.8"
  }
 },
 "nbformat": 4,
 "nbformat_minor": 5
}
