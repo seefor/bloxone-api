{
 "cells": [
  {
   "cell_type": "markdown",
   "id": "worse-effect",
   "metadata": {},
   "source": [
    "## Create and Delete an Address Block in B1DDI\n",
    "\n",
    "> Below you will need to **edit** the following \"address,cidr, space, address_name\"\n",
    " "
   ]
  },
  {
   "cell_type": "code",
   "execution_count": null,
   "id": "excellent-wayne",
   "metadata": {},
   "outputs": [],
   "source": [
    "address = \"10.250.0.0\"\n",
    "cidr = \"16\"\n",
    "space = \"sbaksh-ip-space\"\n",
    "address_name = \"LABC\""
   ]
  },
  {
   "cell_type": "markdown",
   "id": "catholic-investment",
   "metadata": {},
   "source": [
    "> Click in the cell below and choose the \"Play Icon\" at the top"
   ]
  },
  {
   "cell_type": "code",
   "execution_count": null,
   "id": "bacterial-arrival",
   "metadata": {},
   "outputs": [],
   "source": [
    "import bloxone\n",
    "\n",
    "csp_token = 'csp.ini'\n",
    "\n",
    "# Search for IP Space and return the ID\n",
    "b1ddi = bloxone.b1ddi(csp_token)\n",
    "r1 = b1ddi.get_id('/ipam/ip_space', key=\"name\", value= space, include_path=True)\n",
    "\n",
    "# This will print out the id\n",
    "print(r1)"
   ]
  },
  {
   "cell_type": "code",
   "execution_count": null,
   "id": "registered-nursery",
   "metadata": {},
   "outputs": [],
   "source": [
    "body = ( '{ \"address\": \"' + address + '\", '\n",
    "                + '\"cidr\": \"' + cidr + '\", '\n",
    "                + '\"space\": \"' + r1 + '\", '\n",
    "                + '\"name\": \"' + address_name + '\", '\n",
    "                + '\"comment\": \"Address Allocation\" '\n",
    "                ' }' )\n",
    "new = b1ddi.create('/ipam/address_block', body=body)\n",
    "if new.status_code in b1ddi.return_codes_ok:\n",
    "    print(f\"Address Block {address}/{cidr} in {space} was created\")\n",
    "else:\n",
    "    print(f\"[-] Error : {new.status_code} - {new.text}\")"
   ]
  },
  {
   "cell_type": "markdown",
   "id": "classified-arthur",
   "metadata": {},
   "source": [
    "> Now we can can search for for the name we just created \"LABC\" and delete it"
   ]
  },
  {
   "cell_type": "code",
   "execution_count": null,
   "id": "suspended-window",
   "metadata": {},
   "outputs": [],
   "source": [
    "get_id = b1ddi.get_id('/ipam/address_block', key=\"name\", value=\"LABC\", include_path=True)\n",
    "get_id"
   ]
  },
  {
   "cell_type": "code",
   "execution_count": null,
   "id": "small-commander",
   "metadata": {},
   "outputs": [],
   "source": [
    "del_id = b1ddi.delete('', id=get_id)\n",
    "del_id.text\n",
    "if del_id.status_code in b1ddi.return_codes_ok:\n",
    "    print(\"Success!\")\n",
    "else:\n",
    "    print(del_id.status_code)"
   ]
  },
  {
   "cell_type": "code",
   "execution_count": null,
   "id": "explicit-stephen",
   "metadata": {},
   "outputs": [],
   "source": []
  }
 ],
 "metadata": {
  "kernelspec": {
   "display_name": "Python 3",
   "language": "python",
   "name": "python3"
  },
  "language_info": {
   "codemirror_mode": {
    "name": "ipython",
    "version": 3
   },
   "file_extension": ".py",
   "mimetype": "text/x-python",
   "name": "python",
   "nbconvert_exporter": "python",
   "pygments_lexer": "ipython3",
   "version": "3.8.8"
  }
 },
 "nbformat": 4,
 "nbformat_minor": 5
}
