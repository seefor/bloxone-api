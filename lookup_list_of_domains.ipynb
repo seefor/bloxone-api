{
 "cells": [
  {
   "cell_type": "code",
   "execution_count": 1,
   "id": "alternative-equity",
   "metadata": {},
   "outputs": [
    {
     "name": "stdout",
     "output_type": "stream",
     "text": [
      "Starting...\n",
      "0.m13a.serveirc.com - Empty\n",
      "0.z0o.cn - Empty\n",
      "00-002.weebly.com - Empty\n",
      "000000000000000ooooo.000webhostapp.com - Empty\n",
      "000000000a0uutlook.weebly.com - Empty\n",
      "00000000920.us-south.cf.appdomain.cloud - Empty\n",
      "000012345000067890000.000webhostapp.com - Empty\n",
      "0000bbffxzzzz900.000webhostapp.com - Empty\n",
      "0000promises.000webhostapp.com - Empty\n",
      "0000wa0outlook.weebly.com - Empty\n",
      "00012sbcglobal.weebly.com - Empty\n",
      "000133210.000webhostapp.com - Empty\n",
      "0001safeworld0002.000webhostapp.com - Empty\n",
      "000201nets.cloudaccess.host - Empty\n",
      "000webhostanjay.000webhostapp.com - Empty\n",
      "000webhostvk.000webhostapp.com - Empty\n",
      "000yahoo.weebly.com - Empty\n",
      "Completed!\n"
     ]
    }
   ],
   "source": [
    "import bloxone\n",
    "import json\n",
    "import os\n",
    "import sys\n",
    "import pandas as pd\n",
    "import numpy as np\n",
    "\n",
    "csp_token = 'csp.ini'\n",
    "t = bloxone.b1td(csp_token)\n",
    "\n",
    "#name the output file what ever you want\n",
    "f = open(\"new_test2_list.txt\", \"w\")\n",
    "\n",
    "print(\"Starting...\")\n",
    "def main():\n",
    "    # This is the file name with Domains\n",
    "    filepath = \"bad_list_to_check.txt\"\n",
    "    # This will write out the following header\n",
    "    f.write('domain,detected,profile,property,threat_level,expiration\\n')\n",
    "\n",
    "    with open(filepath) as fp:\n",
    "        for cnt, line in enumerate(fp):\n",
    "            query = line.strip()\n",
    "            data = t.querytideactive(datatype=\"host\", query=\"\"+ query + \"\").json()\n",
    "            if not data['threat']:\n",
    "                print(f'{query} - Empty')\n",
    "            for entry in data['threat']:\n",
    "                if \"expiration\" not in entry:\n",
    "                    f.write(\"{},{},{},{},{},NA\\n\".format(line.strip(),entry['detected'],entry['profile'],entry['property'],entry['threat_level']))\n",
    "                else:\n",
    "                    f.write(\"{},{},{},{},{},{}\\n\".format(line.strip(),entry['detected'],entry['profile'],entry['property'],entry['threat_level'], entry['expiration']))\n",
    "\n",
    "\n",
    "            cnt += 1\n",
    "    print(\"Completed!\")\n",
    "if __name__ == '__main__':\n",
    "    main()\n",
    "    f.close()"
   ]
  },
  {
   "cell_type": "code",
   "execution_count": null,
   "id": "combined-fluid",
   "metadata": {},
   "outputs": [],
   "source": [
    "data_from_above=pd.read_csv(\"new_test2_list.txt\")\n",
    "data_from_above.head(50)"
   ]
  },
  {
   "cell_type": "code",
   "execution_count": null,
   "id": "destroyed-abuse",
   "metadata": {},
   "outputs": [],
   "source": [
    "data_from_above.groupby(\"profile\").count()"
   ]
  },
  {
   "cell_type": "code",
   "execution_count": null,
   "id": "flexible-computer",
   "metadata": {},
   "outputs": [],
   "source": [
    "events = data_from_above[['profile','property','domain','expiration']]\n",
    "events.head(50)"
   ]
  },
  {
   "cell_type": "code",
   "execution_count": null,
   "id": "equivalent-harrison",
   "metadata": {},
   "outputs": [],
   "source": [
    "events_group=events.astype(str).groupby(['profile','property','domain','expiration']).count()\n",
    "pd.set_option(\"max_rows\", None)\n",
    "# Will output to a new file\n",
    "events_group.to_csv('sif_test2.csv')\n",
    "events_group"
   ]
  },
  {
   "cell_type": "code",
   "execution_count": null,
   "id": "outside-david",
   "metadata": {},
   "outputs": [],
   "source": []
  }
 ],
 "metadata": {
  "kernelspec": {
   "display_name": "Python 3",
   "language": "python",
   "name": "python3"
  },
  "language_info": {
   "codemirror_mode": {
    "name": "ipython",
    "version": 3
   },
   "file_extension": ".py",
   "mimetype": "text/x-python",
   "name": "python",
   "nbconvert_exporter": "python",
   "pygments_lexer": "ipython3",
   "version": "3.8.8"
  }
 },
 "nbformat": 4,
 "nbformat_minor": 5
}
