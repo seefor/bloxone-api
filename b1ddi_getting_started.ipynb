{
 "cells": [
  {
   "cell_type": "code",
   "execution_count": null,
   "id": "guided-belly",
   "metadata": {},
   "outputs": [],
   "source": [
    "import bloxone\n",
    "import logging\n",
    "\n",
    "log=logging.getLogger(__name__)\n",
    "# logging.basicConfig(level=logging.DEBUG)\n",
    "csp_token = 'csp.ini'\n",
    "\n",
    "# Create a BloxOne DDI Object\n",
    "b1ddi = bloxone.b1ddi(csp_token)\n",
    "r1 = b1ddi.get_id('/ipam/ip_space', key=\"name\", value=\"sbaksh-ip-space\", include_path=True)\n",
    "\n",
    "# Response object handling\n",
    "print(response)"
   ]
  },
  {
   "cell_type": "code",
   "execution_count": null,
   "id": "packed-medicare",
   "metadata": {},
   "outputs": [],
   "source": [
    "options = b1ddi.get_option_ids()\n",
    "print(options[43])\n",
    "#options"
   ]
  },
  {
   "cell_type": "code",
   "execution_count": null,
   "id": "understanding-freeware",
   "metadata": {},
   "outputs": [],
   "source": [
    "# Get all records for a 'named' zone\n",
    "r = b1ddi.get_zone_child(parent=\"zone\", name=\"baksh.com.\", fields=\"name\")\n",
    "r.json()"
   ]
  },
  {
   "cell_type": "code",
   "execution_count": null,
   "id": "intended-blond",
   "metadata": {},
   "outputs": [],
   "source": [
    "address = \"10.250.0.0\"\n",
    "cidr = \"16\"\n",
    "space = r1\n",
    "name = \"LABC\"\n",
    "\n",
    "body = ( '{ \"address\": \"' + address + '\", '\n",
    "                + '\"cidr\": \"' + cidr + '\", '\n",
    "                + '\"space\": \"' + space + '\", '\n",
    "                + '\"name\": \"' + name + '\", '\n",
    "                + '\"comment\": \"Internal Address Allocation\" '\n",
    "                ' }' )\n",
    "print(body)\n",
    "new = b1ddi.create('/ipam/address_block', body=body)\n",
    "new.text"
   ]
  },
  {
   "cell_type": "code",
   "execution_count": null,
   "id": "hawaiian-jerusalem",
   "metadata": {},
   "outputs": [],
   "source": [
    "get_id = b1ddi.get_id('/ipam/address_block', key=\"name\", value=\"LABC\", include_path=True)\n",
    "\n",
    "get_id"
   ]
  },
  {
   "cell_type": "code",
   "execution_count": null,
   "id": "noted-cleveland",
   "metadata": {},
   "outputs": [],
   "source": []
  }
 ],
 "metadata": {
  "kernelspec": {
   "display_name": "Python 3",
   "language": "python",
   "name": "python3"
  },
  "language_info": {
   "codemirror_mode": {
    "name": "ipython",
    "version": 3
   },
   "file_extension": ".py",
   "mimetype": "text/x-python",
   "name": "python",
   "nbconvert_exporter": "python",
   "pygments_lexer": "ipython3",
   "version": "3.8.8"
  }
 },
 "nbformat": 4,
 "nbformat_minor": 5
}
