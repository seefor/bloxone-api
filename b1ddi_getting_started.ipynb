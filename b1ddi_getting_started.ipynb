{
 "cells": [
  {
   "cell_type": "code",
   "execution_count": null,
   "id": "cloudy-weather",
   "metadata": {},
   "outputs": [],
   "source": [
    "\n",
    "import bloxone\n",
    "import json\n",
    "csp_token = 'csp.ini'\n",
    "\n",
    "t = bloxone.b1td(csp_token)\n",
    "print(t.tide_url)\n",
    "\n",
    "badsite = t.querytideactive(datatype=\"host\", query=\"adobekr.com\", rlimit=\"1\",).json()\n",
    "print(badsite)\n"
   ]
  },
  {
   "cell_type": "code",
   "execution_count": 3,
   "id": "cheap-attribute",
   "metadata": {},
   "outputs": [
    {
     "name": "stdout",
     "output_type": "stream",
     "text": [
      "ipam/ip_space/93c26245-b0e2-11ea-a9fa-f68df6f70235\n"
     ]
    }
   ],
   "source": [
    "import bloxone\n",
    "import logging\n",
    "\n",
    "log=logging.getLogger(__name__)\n",
    "# logging.basicConfig(level=logging.DEBUG)\n",
    "csp_token = 'csp.ini'\n",
    "\n",
    "# Create a BloxOne DDI Object\n",
    "b1ddi = bloxone.b1ddi(csp_token)\n",
    "response = b1ddi.get_id('/ipam/ip_space', key=\"name\", value=\"sbaksh-ip-space\", include_path=True)\n",
    "\n",
    "# Response object handling\n",
    "print(response)"
   ]
  },
  {
   "cell_type": "code",
   "execution_count": 8,
   "id": "polyphonic-hormone",
   "metadata": {},
   "outputs": [
    {
     "name": "stdout",
     "output_type": "stream",
     "text": [
      "dhcp/option_code/96e908d1-8585-11ea-aee2-ae10b53de21c\n"
     ]
    }
   ],
   "source": [
    "options = b1ddi.get_option_ids()\n",
    "print(options[43])\n",
    "#options"
   ]
  },
  {
   "cell_type": "code",
   "execution_count": 4,
   "id": "private-convertible",
   "metadata": {},
   "outputs": [
    {
     "data": {
      "text/plain": [
       "{'results': [{'name': ''},\n",
       "  {'name': ''},\n",
       "  {'name': 'rtr'},\n",
       "  {'name': 'sbaksh-test-host'},\n",
       "  {'name': 'secure'},\n",
       "  {'name': 'test'},\n",
       "  {'name': 'test'},\n",
       "  {'name': 'testing'},\n",
       "  {'name': 'testing20'},\n",
       "  {'name': 'testing8'}]}"
      ]
     },
     "execution_count": 4,
     "metadata": {},
     "output_type": "execute_result"
    }
   ],
   "source": [
    "# Get all records for a 'named' zone\n",
    "r = b1ddi.get_zone_child(parent=\"zone\", name=\"baksh.com.\", fields=\"name\")\n",
    "r.json()"
   ]
  },
  {
   "cell_type": "code",
   "execution_count": null,
   "id": "bacterial-henry",
   "metadata": {},
   "outputs": [],
   "source": []
  }
 ],
 "metadata": {
  "kernelspec": {
   "display_name": "Python 3",
   "language": "python",
   "name": "python3"
  },
  "language_info": {
   "codemirror_mode": {
    "name": "ipython",
    "version": 3
   },
   "file_extension": ".py",
   "mimetype": "text/x-python",
   "name": "python",
   "nbconvert_exporter": "python",
   "pygments_lexer": "ipython3",
   "version": "3.8.8"
  }
 },
 "nbformat": 4,
 "nbformat_minor": 5
}
